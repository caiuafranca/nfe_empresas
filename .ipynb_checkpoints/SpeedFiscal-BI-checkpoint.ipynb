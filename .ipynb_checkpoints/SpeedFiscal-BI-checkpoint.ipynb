{
 "cells": [
  {
   "cell_type": "code",
   "execution_count": null,
   "metadata": {},
   "outputs": [],
   "source": [
    "# spark-basic.py\n",
    "from pyspark.sql import SparkSession, dataframe, SQLContext\n",
    "from pyspark.sql.types import StructType, StructField, DoubleType, IntegerType, StringType\n",
    "import pandas as pd \n",
    "\n",
    "spark = SparkSession.builder.master(\"local[*]\").getOrCreate()"
   ]
  },
  {
   "cell_type": "code",
   "execution_count": 2,
   "metadata": {
    "tags": []
   },
   "outputs": [],
   "source": [
    "schema = StructType([\n",
    "    StructField(\"1\", StringType()),\n",
    "    StructField(\"2\", StringType()),\n",
    "    StructField(\"3\", StringType()),\n",
    "    StructField(\"4\", StringType()),\n",
    "    StructField(\"5\", StringType()),\n",
    "    StructField(\"6\", StringType()),\n",
    "    StructField(\"7\", StringType()),\n",
    "    StructField(\"8\", StringType()),\n",
    "    StructField(\"9\", StringType()),\n",
    "    StructField(\"10\", StringType()),\n",
    "    StructField(\"11\", StringType()),\n",
    "    StructField(\"12\", StringType()),\n",
    "    StructField(\"13\", StringType()),\n",
    "    StructField(\"14\", StringType()),\n",
    "    StructField(\"15\", StringType()),\n",
    "    StructField(\"16\", StringType()),\n",
    "    StructField(\"17\", StringType()),\n",
    "    StructField(\"18\", StringType()),\n",
    "    StructField(\"19\", StringType()),\n",
    "    StructField(\"20\", StringType()),\n",
    "    StructField(\"21\", StringType()),\n",
    "    StructField(\"22\", StringType()),\n",
    "    StructField(\"23\", StringType()),\n",
    "    StructField(\"24\", StringType()),\n",
    "    StructField(\"25\", StringType()),\n",
    "    StructField(\"26\", StringType()),\n",
    "    StructField(\"27\", StringType()),\n",
    "    StructField(\"28\", StringType()),\n",
    "    StructField(\"29\", StringType()),\n",
    "    StructField(\"30\", StringType()),\n",
    "    StructField(\"31\", StringType()),\n",
    "    StructField(\"32\", StringType()),\n",
    "    StructField(\"33\", StringType()),\n",
    "    StructField(\"34\", StringType()),\n",
    "    StructField(\"35\", StringType()),\n",
    "    StructField(\"36\", StringType()),\n",
    "    StructField(\"37\", StringType()),\n",
    "    StructField(\"38\", StringType()),\n",
    "    StructField(\"39\", StringType()),\n",
    "    ])\n",
    "\n",
    "dados = spark.read.options(delimiter=\"|\", header=False).schema(schema).load('*.txt', format=\"csv\")"
   ]
  },
  {
   "cell_type": "code",
   "execution_count": 3,
   "metadata": {},
   "outputs": [],
   "source": [
    "dados.registerTempTable('Speed')"
   ]
  },
  {
   "cell_type": "code",
   "execution_count": 4,
   "metadata": {},
   "outputs": [
    {
     "name": "stdout",
     "output_type": "stream",
     "text": [
      "+----+------------+--------------------+--------------------+------------+--------------+--------------------+--------------+-----------+----+--------------------+----------+-------+--------------------+-------+----+----+----+----+----+----+----+----+----+----+----+----+----+----+----+----+----+----+----+----+----+----+----+----+\n",
      "|   1|cod_operacao|                   3|                   4|           5|             6|                   7|             8|          9|  10|                  11|        12|     13|                  14|     15|  16|  17|  18|  19|  20|  21|  22|  23|  24|  25|  26|  27|  28|  29|  30|  31|  32|  33|  34|  35|  36|  37|  38|  39|\n",
      "+----+------------+--------------------+--------------------+------------+--------------+--------------------+--------------+-----------+----+--------------------+----------+-------+--------------------+-------+----+----+----+----+----+----+----+----+----+----+----+----+----+----+----+----+----+----+----+----+----+----+----+----+\n",
      "|null|        0000|                 015|                   0|    01032021|      31032021|DISTRIBUIDORA CON...|11215452000118|       null|  RN|           202509051|   2408102|1234567|                null|      A|   1|null|null|null|null|null|null|null|null|null|null|null|null|null|null|null|null|null|null|null|null|null|null|null|\n",
      "|null|        0001|                   0|                null|        null|          null|                null|          null|       null|null|                null|      null|   null|                null|   null|null|null|null|null|null|null|null|null|null|null|null|null|null|null|null|null|null|null|null|null|null|null|null|null|\n",
      "|null|        0005|CONEXAO DISTRIBUI...|            59064901|BR 101 KM 01|            01|                null|    CANDELARIA|84999998888|null|      nfe@nfe.com.br|      null|   null|                null|   null|null|null|null|null|null|null|null|null|null|null|null|null|null|null|null|null|null|null|null|null|null|null|null|null|\n",
      "|null|        0100|     SERGIO MEDEIROS|         88855544441|      000001|          null|            59300000| RUA DA MATRIZ|        400|   A|              CENTRO|8411111111|   null|conexaofiscal@gma...|2402006|null|null|null|null|null|null|null|null|null|null|null|null|null|null|null|null|null|null|null|null|null|null|null|null|\n",
      "|null|        0150|                 156|  INDUSTRIA TAMBAQUI|        1058|02423534000192|                null|     000461648|    2605103|null|AVENIDA INOCNCIO ...|        SN|   null|            CUSTODIA|   null|null|null|null|null|null|null|null|null|null|null|null|null|null|null|null|null|null|null|null|null|null|null|null|null|\n",
      "|null|        0150|                 207|NOVAS MINAS COMER...|        1058|08082720000153|                null|          null|    2408102|null|      R LEONEL LEITE|        SN|     SC|             ALECRIM|   null|null|null|null|null|null|null|null|null|null|null|null|null|null|null|null|null|null|null|null|null|null|null|null|null|\n",
      "|null|        0150|                 516|          BRAZ FRUIT|        1058|00707977000154|                null|     207988894|    2403251|null|R PRES TANCREDO N...|        SN|   null|        SANTA TEREZA|   null|null|null|null|null|null|null|null|null|null|null|null|null|null|null|null|null|null|null|null|null|null|null|null|null|\n",
      "|null|        0150|                 658|MERCADINHO NOSSA ...|        1058|01311313000100|                null|     207844489|    2402006|null|   RUA GENERINA VALE|        SN|   null|              CENTRO|   null|null|null|null|null|null|null|null|null|null|null|null|null|null|null|null|null|null|null|null|null|null|null|null|null|\n",
      "|null|        0150|                1051|  MERCADINHO MIRAGEM|        1058|04443134000161|                null|     208625269|    2402006|null|           RUI MARIZ|        SN|   null|        BOA PASSAGEM|   null|null|null|null|null|null|null|null|null|null|null|null|null|null|null|null|null|null|null|null|null|null|null|null|null|\n",
      "|null|        0150|                1111| COOPERATIVA CENTRAL|        1058|77579395000228|                null|     420122112|    4115804|null|             R BAHIA|        SN|     SC|             FRIMESA|   null|null|null|null|null|null|null|null|null|null|null|null|null|null|null|null|null|null|null|null|null|null|null|null|null|\n",
      "|null|        0150|                1187|    MERCADINHO ROMAO|        1058|10709297000136|                null|     202472747|    2402006|null|AV. CORONEL MARTI...|        SN|   null|             MAYNARD|   null|null|null|null|null|null|null|null|null|null|null|null|null|null|null|null|null|null|null|null|null|null|null|null|null|\n",
      "|null|        0150|                1499|MERCADINHO PARANA...|        1058|00505655000190|                null|     207385837|    2402006|null|RUA DANIEL DUARTE...|        SN|   null|          BARRA NOVA|   null|null|null|null|null|null|null|null|null|null|null|null|null|null|null|null|null|null|null|null|null|null|null|null|null|\n",
      "|null|        0150|                1738|MERCADINHO SAO JORGE|        1058|04647476000137|                null|     208861680|    2402006|null|   RUA RENATO DANTAS|        SN|   null|              CENTRO|   null|null|null|null|null|null|null|null|null|null|null|null|null|null|null|null|null|null|null|null|null|null|null|null|null|\n",
      "|null|        0150|                3528|        DW ALIMENTOS|        1058|84140101053556|                null|     038168616|    2607208|null|   Av. Portuaria S/N|        SN|     SC|     Eng. Massangana|   null|null|null|null|null|null|null|null|null|null|null|null|null|null|null|null|null|null|null|null|null|null|null|null|null|\n",
      "|null|        0150|                3732|   LATICIONIOS GOIAS|        1058|01519995000133|                null|     108005000|    5205901|null|         ROD GO. 139|        SN|     SC|    SETOR INDUSTRIAL|   null|null|null|null|null|null|null|null|null|null|null|null|null|null|null|null|null|null|null|null|null|null|null|null|null|\n",
      "|null|        0150|                3821|      SAND ALIMENTOS|        1058|42820108000105|                null|     649010007|    3164605|null|   POVOADO TEIXEIRAS|        SN|   null|          ZONA RURAL|   null|null|null|null|null|null|null|null|null|null|null|null|null|null|null|null|null|null|null|null|null|null|null|null|null|\n",
      "|null|        0150|                4013|       MERCADINHO JK|        1058|08380403000124|                null|     201732370|    2408508|null|       JOSE DA PENHA|        SN|   null|              CENTRO|   null|null|null|null|null|null|null|null|null|null|null|null|null|null|null|null|null|null|null|null|null|null|null|null|null|\n",
      "|null|        0150|                4373|MERCADINHO SERVE BEM|        1058|13534745000132|                null|          null|    2405702|null|     RUA JOSE MOISES|      null|   null|            SAO JOAO|   null|null|null|null|null|null|null|null|null|null|null|null|null|null|null|null|null|null|null|null|null|null|null|null|null|\n",
      "|null|        0150|                4412|     MERCADINHO ITAU|        1058|02422024000171|                null|     203150510|    2400109|null|  RUA TEOFILO DANTAS|      null|   null|    TARCISIO BEZERRA|   null|null|null|null|null|null|null|null|null|null|null|null|null|null|null|null|null|null|null|null|null|null|null|null|null|\n",
      "|null|        0150|                4441|    MERCEARIA BRASIL|        1058|35356363000114|                null|     203011100|    2405702|null|RUA DR OTAVIO LAM...|      null|   null|              CENTRO|   null|null|null|null|null|null|null|null|null|null|null|null|null|null|null|null|null|null|null|null|null|null|null|null|null|\n",
      "+----+------------+--------------------+--------------------+------------+--------------+--------------------+--------------+-----------+----+--------------------+----------+-------+--------------------+-------+----+----+----+----+----+----+----+----+----+----+----+----+----+----+----+----+----+----+----+----+----+----+----+----+\n",
      "only showing top 20 rows\n",
      "\n"
     ]
    }
   ],
   "source": [
    "spark.sql(\n",
    "    '''\n",
    "        SELECT \n",
    "            *\n",
    "         FROM Speed\n",
    "    '''\n",
    ").show()"
   ]
  },
  {
   "cell_type": "code",
   "execution_count": 5,
   "metadata": {},
   "outputs": [],
   "source": [
    "data = dados.toPandas()"
   ]
  },
  {
   "cell_type": "code",
   "execution_count": 6,
   "metadata": {},
   "outputs": [],
   "source": [
    "data['empresa_competencia'] = ''\n",
    "data['NF'] = ''\n",
    "nf = None\n",
    "arquivo = 0\n",
    "for empresa in data.index:\n",
    "    if data['2'][empresa] == \"0000\":\n",
    "        arquivo = arquivo + 1\n",
    "        data['empresa_competencia'][empresa] = arquivo\n",
    "        for i in data.index:\n",
    "            if data['2'][i] == \"C100\":\n",
    "                nf = data['10'][i]\n",
    "                data['NF'][i] = nf\n",
    "            else:\n",
    "                data['NF'][i] = nf\n",
    "    else:\n",
    "        data['empresa_competencia'][empresa] = arquivo"
   ]
  },
  {
   "cell_type": "code",
   "execution_count": 7,
   "metadata": {},
   "outputs": [
    {
     "name": "stderr",
     "output_type": "stream",
     "text": [
      "<ipython-input-7-30b2745ddb2a>:6: SettingWithCopyWarning: \n",
      "A value is trying to be set on a copy of a slice from a DataFrame.\n",
      "Try using .loc[row_indexer,col_indexer] = value instead\n",
      "\n",
      "See the caveats in the documentation: https://pandas.pydata.org/pandas-docs/stable/user_guide/indexing.html#returning-a-view-versus-a-copy\n",
      "  dadosC100['10'] = dadosC100['10'].astype(str)\n"
     ]
    }
   ],
   "source": [
    "dadosC100 = data[data['2'].isin([\"C100\"])]\n",
    "dadosC170 = data[data['2'].isin([\"C170\"])]\n",
    "dadosC190 = data[data['2'].isin([\"C190\"])]\n",
    "dadosC197 = data[data['2'].isin([\"C197\"])]\n",
    "dadosE110 = data[data['2'].isin([\"E110\"])]\n",
    "dadosE111 = data[data['2'].isin([\"E111\"])]\n",
    "\n",
    "dadosC100['10'] = dadosC100['10'].astype(str)\n",
    "\n",
    "dadosC100.to_csv('dadosC100.csv', sep=';', index=False)\n",
    "dadosC170.to_csv('dadosC170.csv', sep=';', index=False)\n",
    "dadosC190.to_csv('dadosC190.csv', sep=';', index=False)\n",
    "dadosC197.to_csv('dadosC197.csv', sep=';', index=False)\n",
    "dadosE110.to_csv('dadosE110.csv', sep=';', index=False)\n",
    "dadosE111.to_csv('dadosE111.csv', sep=';', index=False)"
   ]
  },
  {
   "cell_type": "code",
   "execution_count": 10,
   "metadata": {},
   "outputs": [
    {
     "name": "stdout",
     "output_type": "stream",
     "text": [
      "Java not found and JAVA_HOME environment variable is not set.\n",
      "Install Java and set JAVA_HOME to point to the Java installation directory.\n"
     ]
    }
   ],
   "source": [
    "!pyspark --jars ./jars/spark-xml_2.11-0.6.0.jar\n",
    "\n",
    "#file_rdd = spark.read.text(\"./XML/24210111215452000118550010001704061743070885.xml\", wholetext=False)"
   ]
  },
  {
   "cell_type": "code",
   "execution_count": null,
   "metadata": {},
   "outputs": [],
   "source": []
  }
 ],
 "metadata": {
  "interpreter": {
   "hash": "a310a4b312511ba3bf0f63f790f953779b1517e3a444f95ac5afc31fe4715d27"
  },
  "kernelspec": {
   "display_name": "Python 3",
   "language": "python",
   "name": "python3"
  },
  "language_info": {
   "codemirror_mode": {
    "name": "ipython",
    "version": 3
   },
   "file_extension": ".py",
   "mimetype": "text/x-python",
   "name": "python",
   "nbconvert_exporter": "python",
   "pygments_lexer": "ipython3",
   "version": "3.8.10"
  },
  "metadata": {
   "interpreter": {
    "hash": "a310a4b312511ba3bf0f63f790f953779b1517e3a444f95ac5afc31fe4715d27"
   }
  }
 },
 "nbformat": 4,
 "nbformat_minor": 2
}
